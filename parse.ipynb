{
 "cells": [
  {
   "metadata": {},
   "cell_type": "code",
   "source": [
    "import pandas as pd\n",
    "import pyarrow as pa"
   ],
   "id": "initial_id",
   "execution_count": null,
   "outputs": []
  },
  {
   "metadata": {},
   "cell_type": "code",
   "source": [
    "train = pd.read_csv('train_events.csv')\n",
    "train"
   ],
   "id": "61d8c62b69d1110e",
   "execution_count": null,
   "outputs": []
  },
  {
   "metadata": {},
   "cell_type": "code",
   "source": "train['region'] = train['region'].replace(r\"[’'`]\", '', regex=True)",
   "id": "93c7a40424835573",
   "execution_count": null,
   "outputs": []
  },
  {
   "metadata": {},
   "cell_type": "code",
   "source": [
    "video_info = pd.read_csv('video_info_v3.csv')\n",
    "targets = pd.read_csv(\"train_targets.csv\")\n",
    "features = pd.read_csv(\"features.csv\")"
   ],
   "id": "1db5b5c4113a762e",
   "execution_count": null,
   "outputs": []
  },
  {
   "metadata": {},
   "cell_type": "code",
   "source": "targets = targets.drop(['age'], axis=1)",
   "id": "cd9ad6024011e0fc",
   "execution_count": null,
   "outputs": []
  },
  {
   "metadata": {},
   "cell_type": "code",
   "source": [
    "targets['sex'] = targets['sex'].map({\"male\": 1, \"female\": 0})\n",
    "targets"
   ],
   "id": "56d6a88be0e8e691",
   "execution_count": null,
   "outputs": []
  },
  {
   "metadata": {},
   "cell_type": "code",
   "source": [
    "train = train.merge(video_info[['rutube_video_id', 'category', 'duration', 'author_id', 'label']], how=\"inner\",\n",
    "                    on='rutube_video_id')\n",
    "train"
   ],
   "id": "dc68c4ecf8cbc34f",
   "execution_count": null,
   "outputs": []
  },
  {
   "metadata": {},
   "cell_type": "code",
   "source": "len(video_info['author_id'].unique())",
   "id": "e7c08161ae044ca6",
   "execution_count": null,
   "outputs": []
  },
  {
   "metadata": {},
   "cell_type": "code",
   "source": [
    "train = train.merge(features, how='left', on='author_id')\n",
    "train"
   ],
   "id": "7f7247afb7b2e11a",
   "execution_count": null,
   "outputs": []
  },
  {
   "metadata": {},
   "cell_type": "code",
   "source": [
    "train['ua_os'] = train['ua_os'].fillna(\"Undefined\")\n",
    "train"
   ],
   "id": "a6fdbebf0c8f479d",
   "execution_count": null,
   "outputs": []
  },
  {
   "metadata": {},
   "cell_type": "code",
   "source": [
    "sx = train['sex_mode'].value_counts().idxmax()\n",
    "mn = train['median_age'].mean()\n",
    "train['sex_mode'] = train['sex_mode'].fillna(sx)\n",
    "train['median_age'] = train['median_age'].fillna(mn)\n",
    "train"
   ],
   "id": "e66ccae0ba967be4",
   "execution_count": null,
   "outputs": []
  },
  {
   "metadata": {},
   "cell_type": "code",
   "source": [
    "train['sex_mode'] = train['sex_mode'].map({\"male\": 1, \"female\": 0})\n",
    "train['median_age'] = train['median_age'].astype(int)\n",
    "train"
   ],
   "id": "1a49c62119c2023a",
   "execution_count": null,
   "outputs": []
  },
  {
   "metadata": {},
   "cell_type": "code",
   "source": [
    "from datetime import timedelta\n",
    "\n",
    "train['event_timestamp'] = pd.to_datetime(train['event_timestamp'])\n",
    "train['event_timestamp'] = train['event_timestamp'] - timedelta(hours=3) # 6-12 утро 13-18 день 19-0 вечер 1-5 ночь\n",
    "train"
   ],
   "id": "7e85bc6fe7b8f4c8",
   "execution_count": null,
   "outputs": []
  },
  {
   "metadata": {},
   "cell_type": "code",
   "source": [
    "time_zones = {\n",
    "    'Tatarstan Republic': 3,\n",
    "    'Bashkortostan Republic': 5,\n",
    "    'Novosibirsk Oblast': 7,\n",
    "    'Moscow': 3,\n",
    "    'Moscow Oblast': 3,\n",
    "    'Omsk Oblast': 7,\n",
    "    'Chuvashia': 3,\n",
    "    'Krasnoyarsk Krai': 7,\n",
    "    'Chelyabinsk': 5,\n",
    "    'Kamchatka': 11,\n",
    "    'Nizhny Novgorod Oblast': 3,\n",
    "    'Krasnodar Krai': 3,\n",
    "    'Volgograd Oblast': 3,\n",
    "    'Kaliningrad Oblast': 2,\n",
    "    'Kuzbass': 7,\n",
    "    'Stavropol Kray': 3,\n",
    "    'Samara Oblast': 4,\n",
    "    'Amur Oblast': 9,\n",
    "    'Sverdlovsk Oblast': 5,\n",
    "    'St.-Petersburg': 3,\n",
    "    'Yamalo-Nenets': 5,\n",
    "    'Orenburg Oblast': 5,\n",
    "    'Khanty-Mansia': 5,\n",
    "    'Kaluga Oblast': 3,\n",
    "    'Tomsk Oblast': 7,\n",
    "    'Novgorod Oblast': 3,\n",
    "    'Arkhangelskaya': 3,\n",
    "    'North Ossetia–Alania': 3,\n",
    "    'Kursk Oblast': 3,\n",
    "    \"Leningradskaya Oblast'\": 3,\n",
    "    'Krasnoyarskiy': 7,\n",
    "    'Ivanovo Oblast': 3,\n",
    "    'Altay Kray': 7,\n",
    "    'Kurgan Oblast': 5,\n",
    "    'Kostroma Oblast': 3,\n",
    "    'Bryansk Oblast': 3,\n",
    "    'Dagestan': 3,\n",
    "    'Lipetsk Oblast': 3,\n",
    "    'Vladimir Oblast': 3,\n",
    "    'Kirov Oblast': 3,\n",
    "    'Khabarovsk': 9,\n",
    "    'Tambov Oblast': 3,\n",
    "    'Chukotka': 12,\n",
    "    'Voronezh Oblast': 3,\n",
    "    'Sverdlovsk': 5,\n",
    "    'Tula Oblast': 3,\n",
    "    'Krasnodarskiy': 3,\n",
    "    'Irkutsk Oblast': 8,\n",
    "    'Saratov Oblast': 4,\n",
    "    'Khakasiya Republic': 7,\n",
    "    'Penza': 3,\n",
    "    'Perm Krai': 5,\n",
    "    'Oryol oblast': 3,\n",
    "    'Vladimir': 3,\n",
    "    'Smolensk Oblast': 3,\n",
    "    'Penza Oblast': 3,\n",
    "    'Mordoviya Republic': 3,\n",
    "    'Tyumen’ Oblast': 5,\n",
    "    'Sakha': 9,\n",
    "    'Primorye': 10,\n",
    "    'Zabaykalskiy (Transbaikal) Kray': 9,\n",
    "    'Vologda Oblast': 3,\n",
    "    'Yaroslavl Oblast': 3,\n",
    "    'Crimea': 3,\n",
    "    'Rostov': 3,\n",
    "    'Ryazan Oblast': 3,\n",
    "    'Perm': 5,\n",
    "    'Chechnya': 3,\n",
    "    'Udmurtiya Republic': 3,\n",
    "    'Tver Oblast': 3,\n",
    "    'Buryatiya Republic': 8,\n",
    "    'Belgorod Oblast': 3,\n",
    "    'Kaluga': 3,\n",
    "    'Astrakhan Oblast': 3,\n",
    "    'Karelia': 3,\n",
    "    'Murmansk': 3,\n",
    "    'Adygeya Republic': 3,\n",
    "    'Kemerovo Oblast': 7,\n",
    "    'Mariy-El Republic': 3,\n",
    "    'Kursk': 3,\n",
    "    'Saratovskaya Oblast': 4,\n",
    "    'Sakhalin Oblast': 10,\n",
    "    'Ivanovo': 3,\n",
    "    'Tyumen Oblast': 5,\n",
    "    'Stavropol’ Kray': 3,\n",
    "    'Voronezj': 3,\n",
    "    'Karachayevo-Cherkesiya Republic': 3,\n",
    "    'Kabardino-Balkariya Republic': 3,\n",
    "    'Ulyanovsk': 4,\n",
    "    'North Ossetia': 3,\n",
    "    'Komi': 3,\n",
    "    'Smolensk': 3,\n",
    "    'Tver’ Oblast': 3,\n",
    "    'Sebastopol City': 3,\n",
    "    'Pskov Oblast': 3,\n",
    "    'Tula': 3,\n",
    "    'Orel Oblast': 3,\n",
    "    'Jaroslavl': 3,\n",
    "    'Tambov': 3,\n",
    "    'Kalmykiya Republic': 3,\n",
    "    'Primorskiy (Maritime) Kray': 10,\n",
    "    'Altai': 7,\n",
    "    'Magadan Oblast': 10,\n",
    "    'Vologda': 3,\n",
    "    'Tyva Republic': 7,\n",
    "    'Nenets': 3,\n",
    "    'Smolenskaya Oblast': 3,\n",
    "    'Jewish Autonomous Oblast': 10,\n",
    "    'Astrakhan': 3,\n",
    "    'Ingushetiya Republic': 3,\n",
    "    'Kirov': 3,\n",
    "    'Transbaikal Territory': 9,\n",
    "    'Omsk': 7,\n",
    "    'Kaliningrad': 2,\n",
    "    'Stavropol Krai': 3,\n",
    "    'Arkhangelsk Oblast': 3,\n",
    "    'Leningradskaya Oblast': 3\n",
    "}"
   ],
   "id": "87808fca2f98a4cb",
   "execution_count": null,
   "outputs": []
  },
  {
   "metadata": {},
   "cell_type": "code",
   "source": [
    "train['timezone_offset'] = train['region'].map(time_zones)\n",
    "train"
   ],
   "id": "4a3a94fd8e2a352a",
   "execution_count": null,
   "outputs": []
  },
  {
   "metadata": {},
   "cell_type": "code",
   "source": [
    "train['event_timestamp_timezone'] = train['event_timestamp'] + pd.to_timedelta(train['timezone_offset'], unit='h')\n",
    "train"
   ],
   "id": "b87aa7a28b99bf3c",
   "execution_count": null,
   "outputs": []
  },
  {
   "metadata": {},
   "cell_type": "code",
   "source": [
    "train['morning'] = 0\n",
    "train['day'] = 0\n",
    "train['evening'] = 0\n",
    "train['night'] = 0"
   ],
   "id": "29e6aae71d4c91e1",
   "execution_count": null,
   "outputs": []
  },
  {
   "metadata": {},
   "cell_type": "code",
   "source": [
    "train.loc[train['event_timestamp_timezone'].dt.hour.between(6, 12, inclusive='left'), 'morning'] = 1\n",
    "train.loc[train['event_timestamp_timezone'].dt.hour.between(13, 18, inclusive='left'), 'day'] = 1\n",
    "train.loc[train['event_timestamp_timezone'].dt.hour.between(19, 23, inclusive='left'), 'evening'] = 1\n",
    "train.loc[train['event_timestamp_timezone'].dt.hour.between(0, 5, inclusive='both'), 'night'] = 1\n",
    "train"
   ],
   "id": "afdb7345baf6d0d0",
   "execution_count": null,
   "outputs": []
  },
  {
   "metadata": {},
   "cell_type": "code",
   "source": [
    "category = video_info['category'].unique()\n",
    "cat_dict = {c: c_id for c_id, c in enumerate(category)}"
   ],
   "id": "42c934e706858f37",
   "execution_count": null,
   "outputs": []
  },
  {
   "metadata": {},
   "cell_type": "code",
   "source": [
    "train['category'] = train['category'].map(cat_dict)\n",
    "train"
   ],
   "id": "d10000357d7e85a8",
   "execution_count": null,
   "outputs": []
  },
  {
   "metadata": {},
   "cell_type": "code",
   "source": [
    "devices = train['ua_device_type'].unique()\n",
    "device_dict = {dev: dev_i for dev_i, dev in enumerate(devices)}\n",
    "train['ua_device_type'] = train['ua_device_type'].map(device_dict)\n",
    "train"
   ],
   "id": "27a42fbf409fb4e8",
   "execution_count": null,
   "outputs": []
  },
  {
   "metadata": {},
   "cell_type": "code",
   "source": [
    "region_unique = train['region'].unique()\n",
    "region_dict = {reg: reg_i for reg_i, reg in enumerate(region_unique)}\n",
    "region_dict"
   ],
   "id": "9241919a119ab7ed",
   "execution_count": null,
   "outputs": []
  },
  {
   "metadata": {},
   "cell_type": "code",
   "source": [
    "train['region'] = train['region'].map(region_dict)\n",
    "train"
   ],
   "id": "ecc7db623499c05e",
   "execution_count": null,
   "outputs": []
  },
  {
   "metadata": {},
   "cell_type": "code",
   "source": "train.loc[train['viewer_uid']==10067243, 'region'][0]",
   "id": "54d6804ab7f50a25",
   "execution_count": null,
   "outputs": []
  },
  {
   "metadata": {},
   "cell_type": "code",
   "source": [
    "category_cols = [f\"category_{i}\" for i in range(len(category))]\n",
    "label_cols = [f\"label_{i}\" for i in range(100)]\n",
    "device_cols = [f\"device_{i}\" for i in range(len(train['ua_device_type'].unique()))]"
   ],
   "id": "1f9480211f85512f",
   "execution_count": null,
   "outputs": []
  },
  {
   "metadata": {},
   "cell_type": "code",
   "source": "device_cols",
   "id": "bfe37138f6244bc4",
   "execution_count": null,
   "outputs": []
  },
  {
   "metadata": {},
   "cell_type": "code",
   "source": [
    "train['percent'] = train['total_watchtime'] / train['duration']\n",
    "train"
   ],
   "id": "7c7891dd443e4780",
   "execution_count": null,
   "outputs": []
  },
  {
   "metadata": {},
   "cell_type": "markdown",
   "source": "# Targets",
   "id": "856310a83333dc46"
  },
  {
   "metadata": {},
   "cell_type": "code",
   "source": [
    "usr_emb = targets.copy()\n",
    "usr_emb"
   ],
   "id": "2dbc0ef9c9f6a352",
   "execution_count": null,
   "outputs": []
  },
  {
   "metadata": {},
   "cell_type": "code",
   "source": [
    "cat_df = pd.DataFrame(columns=['viewer_uid', *category_cols])\n",
    "cat_df"
   ],
   "id": "9f0358e3c5be6a2b",
   "execution_count": null,
   "outputs": []
  },
  {
   "metadata": {},
   "cell_type": "code",
   "source": [
    "label_df = pd.DataFrame(columns=['viewer_uid', *label_cols])\n",
    "label_df"
   ],
   "id": "55af65dc3e90ac09",
   "execution_count": null,
   "outputs": []
  },
  {
   "metadata": {},
   "cell_type": "code",
   "source": [
    "device_df = pd.DataFrame(columns=['viewer_uid', *device_cols])\n",
    "device_df"
   ],
   "id": "5260572394ac251a",
   "execution_count": null,
   "outputs": []
  },
  {
   "metadata": {},
   "cell_type": "code",
   "source": [
    "label_counts = train.pivot_table(index='viewer_uid', columns='label', aggfunc='size', fill_value=0)\n",
    "\n",
    "for la in range(100):\n",
    "    if la not in label_counts.columns:\n",
    "        label_counts[la] = 0\n",
    "\n",
    "label_counts = label_counts.reset_index().reindex(columns=['viewer_uid'] + list(range(100)))\n",
    "\n",
    "label_counts.columns = ['viewer_uid'] + label_cols\n",
    "\n",
    "label_df = label_counts\n",
    "label_df"
   ],
   "id": "32175af65345f5e9",
   "execution_count": null,
   "outputs": []
  },
  {
   "metadata": {},
   "cell_type": "code",
   "source": [
    "category_counts = train.pivot_table(index='viewer_uid', columns='category', aggfunc='size', fill_value=0)\n",
    "\n",
    "for category in range(40):\n",
    "    if category not in category_counts.columns:\n",
    "        category_counts[category] = 0\n",
    "\n",
    "category_counts = category_counts.reset_index().reindex(columns=['viewer_uid'] + list(range(40)))\n",
    "\n",
    "category_counts.columns = ['viewer_uid'] + category_cols\n",
    "\n",
    "cat_df = category_counts\n",
    "cat_df"
   ],
   "id": "df0038a4ef77d05a",
   "execution_count": null,
   "outputs": []
  },
  {
   "metadata": {},
   "cell_type": "code",
   "source": [
    "device_counts = train.pivot_table(index='viewer_uid', columns='ua_device_type', aggfunc='size', fill_value=0)\n",
    "\n",
    "for dev in range(3):\n",
    "    if dev not in device_counts.columns:\n",
    "        device_counts[dev] = 0\n",
    "\n",
    "device_counts = device_counts.reset_index().reindex(columns=['viewer_uid'] + list(range(3)))\n",
    "\n",
    "device_counts.columns = ['viewer_uid'] + device_cols\n",
    "\n",
    "device_df = device_counts\n",
    "device_df"
   ],
   "id": "99f8fe86b3a6fc63",
   "execution_count": null,
   "outputs": []
  },
  {
   "metadata": {},
   "cell_type": "code",
   "source": "usr_emb",
   "id": "15b6f1860d65d20d",
   "execution_count": null,
   "outputs": []
  },
  {
   "metadata": {},
   "cell_type": "code",
   "source": "t = pa.Table.from_pandas(train)",
   "id": "7c6707cb666cd9cc",
   "execution_count": null,
   "outputs": []
  },
  {
   "metadata": {},
   "cell_type": "code",
   "source": "t.to_pandas()",
   "id": "8af3bf2faafa6c8d",
   "execution_count": null,
   "outputs": []
  },
  {
   "metadata": {},
   "cell_type": "code",
   "source": [
    "sex_mean = t.select(['viewer_uid', 'sex_mode']).group_by(\n",
    "    ['viewer_uid']).aggregate([('sex_mode', \"mean\")])\n",
    "sex_mean = sex_mean.to_pandas()\n",
    "sex_mean"
   ],
   "id": "8fb91c452a465fbf",
   "execution_count": null,
   "outputs": []
  },
  {
   "metadata": {},
   "cell_type": "code",
   "source": [
    "time_sum = t.select(['viewer_uid', 'morning', 'day','evening', 'night']).group_by(['viewer_uid']).aggregate([('morning', \"sum\"), ('day', \"sum\"), ('evening', \"sum\"), ('night', \"sum\")])\n",
    "time_sum = time_sum.to_pandas()\n",
    "time_sum"
   ],
   "id": "4ad7d0764dea8850",
   "execution_count": null,
   "outputs": []
  },
  {
   "metadata": {},
   "cell_type": "code",
   "source": "median = train.groupby('viewer_uid')['median_age'].agg(list)",
   "id": "48da6535c62f4544",
   "execution_count": null,
   "outputs": []
  },
  {
   "metadata": {},
   "cell_type": "code",
   "source": "median_df = pd.DataFrame({'viewer_uid': median.index, 'median_age': median.values})",
   "id": "3dd644ca1e09f7b0",
   "execution_count": null,
   "outputs": []
  },
  {
   "metadata": {},
   "cell_type": "code",
   "source": [
    "from statistics import median\n",
    "\n",
    "median_df['median_age'] = median_df['median_age'].apply(lambda x: median(x))\n",
    "median_df['median_age'] = median_df['median_age'].astype(int)\n",
    "median_df"
   ],
   "id": "63501f8ab30d1ad8",
   "execution_count": null,
   "outputs": []
  },
  {
   "metadata": {},
   "cell_type": "code",
   "source": [
    "region_map = train.drop_duplicates('viewer_uid').set_index('viewer_uid')['region'].to_dict()\n",
    "usr_emb['region'] = usr_emb['viewer_uid'].map(region_map)\n",
    "usr_emb"
   ],
   "id": "c411f11def2fbe67",
   "execution_count": null,
   "outputs": []
  },
  {
   "metadata": {},
   "cell_type": "code",
   "source": "usr_emb = usr_emb.merge(cat_df, how='inner', on='viewer_uid')",
   "id": "a3cae4127111e0ae",
   "execution_count": null,
   "outputs": []
  },
  {
   "metadata": {},
   "cell_type": "code",
   "source": "usr_emb = usr_emb.merge(median_df, how='inner', on='viewer_uid')",
   "id": "8ed03b1bb62decc2",
   "execution_count": null,
   "outputs": []
  },
  {
   "metadata": {},
   "cell_type": "code",
   "source": "usr_emb = usr_emb.merge(sex_mean, how='inner', on='viewer_uid')",
   "id": "7eacf25245b3f5ff",
   "execution_count": null,
   "outputs": []
  },
  {
   "metadata": {},
   "cell_type": "code",
   "source": "usr_emb = usr_emb.merge(label_df, how='inner', on='viewer_uid')",
   "id": "e996c92bd422f70d",
   "execution_count": null,
   "outputs": []
  },
  {
   "metadata": {},
   "cell_type": "code",
   "source": "usr_emb = usr_emb.merge(device_df, how='inner', on='viewer_uid')",
   "id": "819851d16a675d70",
   "execution_count": null,
   "outputs": []
  },
  {
   "metadata": {},
   "cell_type": "code",
   "source": "usr_emb = usr_emb.merge(time_sum, how='inner', on='viewer_uid')",
   "id": "d5b64e1e41101644",
   "execution_count": null,
   "outputs": []
  },
  {
   "metadata": {},
   "cell_type": "code",
   "source": "usr_emb",
   "id": "2ff469b28b330ac8",
   "execution_count": null,
   "outputs": []
  },
  {
   "metadata": {},
   "cell_type": "code",
   "source": [
    "from sklearn.model_selection import train_test_split\n",
    "\n",
    "x_train, x_test, y_train, y_test = train_test_split(usr_emb.drop(['sex', 'age_class', 'viewer_uid'], axis=1),\n",
    "                                                    usr_emb['sex'], test_size=0.33, random_state=42)\n"
   ],
   "id": "6eb8af99dd1a7d4d",
   "execution_count": null,
   "outputs": []
  },
  {
   "metadata": {},
   "cell_type": "code",
   "source": [
    "from catboost import CatBoostClassifier\n",
    "\n",
    "model = CatBoostClassifier(iterations=1500, eval_metric='Accuracy', learning_rate=0.1, max_depth=7,\n",
    "                           early_stopping_rounds=250, task_type=\"GPU\", leaf_estimation_backtracking='AnyImprovement')"
   ],
   "id": "4ab8da1f08da0315",
   "execution_count": null,
   "outputs": []
  },
  {
   "metadata": {},
   "cell_type": "code",
   "source": "model.fit(x_train, y_train, eval_set=(x_test, y_test), cat_features=['region'], use_best_model=True)",
   "id": "e79489a903789063",
   "execution_count": null,
   "outputs": []
  },
  {
   "metadata": {},
   "cell_type": "code",
   "source": "y_pred = model.predict(x_test)",
   "id": "7f81fd926baa88b5",
   "execution_count": null,
   "outputs": []
  },
  {
   "metadata": {},
   "cell_type": "code",
   "source": [
    "from sklearn.metrics import f1_score, accuracy_score\n",
    "\n",
    "acc = accuracy_score(y_test, y_pred)\n",
    "acc"
   ],
   "id": "f081a1bdaf0d31db",
   "execution_count": null,
   "outputs": []
  },
  {
   "metadata": {},
   "cell_type": "code",
   "source": [
    "x_train, x_test, y_train, y_test = train_test_split(usr_emb.drop(['sex', 'age_class', 'viewer_uid'], axis=1),\n",
    "                                                    usr_emb['age_class'], test_size=0.3, random_state=42)"
   ],
   "id": "4134de00dfe85061",
   "execution_count": null,
   "outputs": []
  },
  {
   "metadata": {},
   "cell_type": "code",
   "source": [
    "model = CatBoostClassifier(iterations=1500, eval_metric='Accuracy',loss_function='MultiClass', learning_rate=0.1, max_depth=6,\n",
    "                           early_stopping_rounds=250, task_type=\"GPU\", leaf_estimation_backtracking='AnyImprovement')"
   ],
   "id": "f0d59412d160502e",
   "execution_count": null,
   "outputs": []
  },
  {
   "metadata": {},
   "cell_type": "code",
   "source": "model.fit(x_train, y_train, eval_set=(x_test, y_test),cat_features=['region'], use_best_model=True)",
   "id": "299d3531af006a05",
   "execution_count": null,
   "outputs": []
  },
  {
   "metadata": {},
   "cell_type": "code",
   "source": "y_pred = model.predict(x_test)",
   "id": "f65863058dc6bb64",
   "execution_count": null,
   "outputs": []
  },
  {
   "metadata": {},
   "cell_type": "code",
   "source": "f = f1_score(y_test, y_pred, average='weighted')",
   "id": "73d8c982365bd772",
   "execution_count": null,
   "outputs": []
  },
  {
   "metadata": {},
   "cell_type": "code",
   "source": "f",
   "id": "d96ed15001ec2d6",
   "execution_count": null,
   "outputs": []
  },
  {
   "metadata": {},
   "cell_type": "code",
   "source": "model.get_feature_importance(prettified=True)",
   "id": "c8367049fe9e0308",
   "execution_count": null,
   "outputs": []
  },
  {
   "metadata": {},
   "cell_type": "code",
   "source": [
    "import seaborn as sb\n",
    "\n",
    "sb.pairplot(usr_emb)"
   ],
   "id": "83ab666085fa0ca6",
   "execution_count": null,
   "outputs": []
  },
  {
   "metadata": {},
   "cell_type": "code",
   "source": "",
   "id": "dd7b69c7586fbce2",
   "execution_count": null,
   "outputs": []
  }
 ],
 "metadata": {
  "kernelspec": {
   "display_name": "Python 3",
   "language": "python",
   "name": "python3"
  },
  "language_info": {
   "codemirror_mode": {
    "name": "ipython",
    "version": 2
   },
   "file_extension": ".py",
   "mimetype": "text/x-python",
   "name": "python",
   "nbconvert_exporter": "python",
   "pygments_lexer": "ipython2",
   "version": "2.7.6"
  }
 },
 "nbformat": 4,
 "nbformat_minor": 5
}
